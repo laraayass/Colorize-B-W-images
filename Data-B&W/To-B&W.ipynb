{
 "cells": [
  {
   "cell_type": "code",
   "execution_count": 4,
   "metadata": {},
   "outputs": [],
   "source": [
    "import os\n",
    "import numpy as np\n",
    "from PIL import Image\n",
    "\n",
    "img_size = 120\n",
    "input_dir = \"data\"\n",
    "output_dir = \"data-gray\"\n",
    "\n",
    "for image_file in os.listdir( input_dir ):\n",
    "    rgb_image = Image.open( os.path.join( input_dir , image_file ) ).resize( ( img_size , img_size ) )\n",
    "    gray_image = rgb_image.convert( 'L' )\n",
    "    gray_image.save( os.path.join( output_dir , image_file ) )"
   ]
  }
 ],
 "metadata": {
  "kernelspec": {
   "display_name": "Python 3",
   "language": "python",
   "name": "python3"
  },
  "language_info": {
   "codemirror_mode": {
    "name": "ipython",
    "version": 3
   },
   "file_extension": ".py",
   "mimetype": "text/x-python",
   "name": "python",
   "nbconvert_exporter": "python",
   "pygments_lexer": "ipython3",
   "version": "3.12.3"
  }
 },
 "nbformat": 4,
 "nbformat_minor": 2
}
